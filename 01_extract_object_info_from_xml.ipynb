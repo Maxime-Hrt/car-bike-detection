{
 "cells": [
  {
   "cell_type": "code",
   "execution_count": 6,
   "id": "6c098054",
   "metadata": {
    "ExecuteTime": {
     "end_time": "2023-12-02T01:32:47.018058Z",
     "start_time": "2023-12-02T01:32:46.299743Z"
    }
   },
   "outputs": [],
   "source": [
    "import os\n",
    "from glob import glob\n",
    "import pandas as pd\n",
    "from functools import reduce\n",
    "from xml.etree import ElementTree as et"
   ]
  },
  {
   "cell_type": "markdown",
   "source": [
    "## XML File process\n",
    "* Load all xml files and store them in a list\n",
    "* Read xml files"
   ],
   "metadata": {
    "collapsed": false
   },
   "id": "2b75d5ae5c19adc9"
  },
  {
   "cell_type": "code",
   "execution_count": 88,
   "outputs": [],
   "source": [
    "xml_files = glob('datasets/Annotation/*/*.xml')"
   ],
   "metadata": {
    "collapsed": false,
    "ExecuteTime": {
     "end_time": "2023-12-02T03:34:57.083165Z",
     "start_time": "2023-12-02T03:34:56.911285Z"
    }
   },
   "id": "9858e0f17d837124"
  },
  {
   "cell_type": "code",
   "execution_count": 95,
   "outputs": [],
   "source": [
    "def extract_text(filename):\n",
    "    tree = et.parse(filename)\n",
    "    root = tree.getroot()\n",
    "    \n",
    "    # extract filename\n",
    "    image_name = f\"datasets/Images/n{root.find('folder').text}-{root.find('object').find('name').text}/{root.find('filename').text}.jpg\"\n",
    "    # width and height of the image\n",
    "    width = root.find('size').find('width').text\n",
    "    height = root.find('size').find('height').text\n",
    "    objs = root.findall('object')\n",
    "    parser = []\n",
    "    for obj in objs:\n",
    "        name = obj.find('name').text\n",
    "        bndbox = obj.find('bndbox')\n",
    "        xmin = bndbox.find('xmin').text\n",
    "        xmax = bndbox.find('xmax').text\n",
    "        ymin = bndbox.find('ymin').text\n",
    "        ymax = bndbox.find('ymax').text\n",
    "        parser.append([image_name, width, height, name, xmin, xmax, ymin, ymax])\n",
    "        \n",
    "    return parser"
   ],
   "metadata": {
    "collapsed": false,
    "ExecuteTime": {
     "end_time": "2023-12-02T03:38:14.511421Z",
     "start_time": "2023-12-02T03:38:14.484270Z"
    }
   },
   "id": "f706c29feadf4004"
  },
  {
   "cell_type": "code",
   "execution_count": 96,
   "outputs": [],
   "source": [
    "parser_all = list(map(extract_text, xml_files))"
   ],
   "metadata": {
    "collapsed": false,
    "ExecuteTime": {
     "end_time": "2023-12-02T03:38:18.944341Z",
     "start_time": "2023-12-02T03:38:16.262059Z"
    }
   },
   "id": "9ff44762760197ff"
  },
  {
   "cell_type": "code",
   "execution_count": 97,
   "outputs": [],
   "source": [
    "data = reduce(lambda x, y : x+y, parser_all)"
   ],
   "metadata": {
    "collapsed": false,
    "ExecuteTime": {
     "end_time": "2023-12-02T03:38:22.528994Z",
     "start_time": "2023-12-02T03:38:21.848075Z"
    }
   },
   "id": "6286f5fd0690af0a"
  },
  {
   "cell_type": "code",
   "execution_count": 98,
   "outputs": [],
   "source": [
    "df = pd.DataFrame(data, columns= ['filename', 'width', 'height', 'name', 'xmin', 'xmax', 'ymin', 'ymax'])"
   ],
   "metadata": {
    "collapsed": false,
    "ExecuteTime": {
     "end_time": "2023-12-02T03:38:23.412729Z",
     "start_time": "2023-12-02T03:38:23.405949Z"
    }
   },
   "id": "126d73335dccb2b2"
  },
  {
   "cell_type": "code",
   "execution_count": 99,
   "outputs": [
    {
     "data": {
      "text/plain": "                                            filename width height  \\\n0  datasets/Images/n02097658-silky_terrier/n02097...   500    375   \n1  datasets/Images/n02097658-silky_terrier/n02097...   375    500   \n2  datasets/Images/n02097658-silky_terrier/n02097...   448    400   \n3  datasets/Images/n02097658-silky_terrier/n02097...   500    333   \n4  datasets/Images/n02097658-silky_terrier/n02097...   333    500   \n\n            name xmin xmax ymin ymax  \n0  silky_terrier   82  378    7  355  \n1  silky_terrier   43  321  270  498  \n2  silky_terrier   41  296   30  398  \n3  silky_terrier  146  356   10  332  \n4  silky_terrier    0  331   12  498  ",
      "text/html": "<div>\n<style scoped>\n    .dataframe tbody tr th:only-of-type {\n        vertical-align: middle;\n    }\n\n    .dataframe tbody tr th {\n        vertical-align: top;\n    }\n\n    .dataframe thead th {\n        text-align: right;\n    }\n</style>\n<table border=\"1\" class=\"dataframe\">\n  <thead>\n    <tr style=\"text-align: right;\">\n      <th></th>\n      <th>filename</th>\n      <th>width</th>\n      <th>height</th>\n      <th>name</th>\n      <th>xmin</th>\n      <th>xmax</th>\n      <th>ymin</th>\n      <th>ymax</th>\n    </tr>\n  </thead>\n  <tbody>\n    <tr>\n      <th>0</th>\n      <td>datasets/Images/n02097658-silky_terrier/n02097...</td>\n      <td>500</td>\n      <td>375</td>\n      <td>silky_terrier</td>\n      <td>82</td>\n      <td>378</td>\n      <td>7</td>\n      <td>355</td>\n    </tr>\n    <tr>\n      <th>1</th>\n      <td>datasets/Images/n02097658-silky_terrier/n02097...</td>\n      <td>375</td>\n      <td>500</td>\n      <td>silky_terrier</td>\n      <td>43</td>\n      <td>321</td>\n      <td>270</td>\n      <td>498</td>\n    </tr>\n    <tr>\n      <th>2</th>\n      <td>datasets/Images/n02097658-silky_terrier/n02097...</td>\n      <td>448</td>\n      <td>400</td>\n      <td>silky_terrier</td>\n      <td>41</td>\n      <td>296</td>\n      <td>30</td>\n      <td>398</td>\n    </tr>\n    <tr>\n      <th>3</th>\n      <td>datasets/Images/n02097658-silky_terrier/n02097...</td>\n      <td>500</td>\n      <td>333</td>\n      <td>silky_terrier</td>\n      <td>146</td>\n      <td>356</td>\n      <td>10</td>\n      <td>332</td>\n    </tr>\n    <tr>\n      <th>4</th>\n      <td>datasets/Images/n02097658-silky_terrier/n02097...</td>\n      <td>333</td>\n      <td>500</td>\n      <td>silky_terrier</td>\n      <td>0</td>\n      <td>331</td>\n      <td>12</td>\n      <td>498</td>\n    </tr>\n  </tbody>\n</table>\n</div>"
     },
     "execution_count": 99,
     "metadata": {},
     "output_type": "execute_result"
    }
   ],
   "source": [
    "df.head()"
   ],
   "metadata": {
    "collapsed": false,
    "ExecuteTime": {
     "end_time": "2023-12-02T03:38:24.224563Z",
     "start_time": "2023-12-02T03:38:24.215172Z"
    }
   },
   "id": "e9d028a89b6cfe37"
  },
  {
   "cell_type": "code",
   "execution_count": 101,
   "outputs": [
    {
     "data": {
      "text/plain": "(22126, 8)"
     },
     "execution_count": 101,
     "metadata": {},
     "output_type": "execute_result"
    }
   ],
   "source": [
    "df.shape"
   ],
   "metadata": {
    "collapsed": false,
    "ExecuteTime": {
     "end_time": "2023-12-02T03:39:01.647381Z",
     "start_time": "2023-12-02T03:39:01.636993Z"
    }
   },
   "id": "ae702c943d77579f"
  },
  {
   "cell_type": "code",
   "execution_count": 102,
   "outputs": [
    {
     "data": {
      "text/plain": "name\nAfghan_hound          287\nMaltese_dog           264\nIrish_wolfhound       263\nLeonberg              256\nScottish_deerhound    246\n                     ... \nSussex_spaniel        153\nmalinois              153\nPekinese              152\ngroenendael           152\nredbone               151\nName: count, Length: 120, dtype: int64"
     },
     "execution_count": 102,
     "metadata": {},
     "output_type": "execute_result"
    }
   ],
   "source": [
    "df['name'].value_counts()"
   ],
   "metadata": {
    "collapsed": false,
    "ExecuteTime": {
     "end_time": "2023-12-02T03:39:03.042870Z",
     "start_time": "2023-12-02T03:39:02.988286Z"
    }
   },
   "id": "3e209a6db47103e0"
  },
  {
   "cell_type": "code",
   "execution_count": 103,
   "outputs": [
    {
     "name": "stdout",
     "output_type": "stream",
     "text": [
      "<class 'pandas.core.frame.DataFrame'>\n",
      "RangeIndex: 22126 entries, 0 to 22125\n",
      "Data columns (total 8 columns):\n",
      " #   Column    Non-Null Count  Dtype \n",
      "---  ------    --------------  ----- \n",
      " 0   filename  22126 non-null  object\n",
      " 1   width     22126 non-null  object\n",
      " 2   height    22126 non-null  object\n",
      " 3   name      22126 non-null  object\n",
      " 4   xmin      22126 non-null  object\n",
      " 5   xmax      22126 non-null  object\n",
      " 6   ymin      22126 non-null  object\n",
      " 7   ymax      22126 non-null  object\n",
      "dtypes: object(8)\n",
      "memory usage: 1.4+ MB\n"
     ]
    }
   ],
   "source": [
    "df.info()"
   ],
   "metadata": {
    "collapsed": false,
    "ExecuteTime": {
     "end_time": "2023-12-02T03:39:04.050729Z",
     "start_time": "2023-12-02T03:39:04.034957Z"
    }
   },
   "id": "b2fe450507e72a1a"
  },
  {
   "cell_type": "markdown",
   "source": [
    "---\n",
    "## Conversion"
   ],
   "metadata": {
    "collapsed": false
   },
   "id": "97dd6fae80d61232"
  },
  {
   "cell_type": "code",
   "execution_count": 104,
   "outputs": [
    {
     "name": "stdout",
     "output_type": "stream",
     "text": [
      "<class 'pandas.core.frame.DataFrame'>\n",
      "RangeIndex: 22126 entries, 0 to 22125\n",
      "Data columns (total 8 columns):\n",
      " #   Column    Non-Null Count  Dtype \n",
      "---  ------    --------------  ----- \n",
      " 0   filename  22126 non-null  object\n",
      " 1   width     22126 non-null  int64 \n",
      " 2   height    22126 non-null  int64 \n",
      " 3   name      22126 non-null  object\n",
      " 4   xmin      22126 non-null  int64 \n",
      " 5   xmax      22126 non-null  int64 \n",
      " 6   ymin      22126 non-null  int64 \n",
      " 7   ymax      22126 non-null  int64 \n",
      "dtypes: int64(6), object(2)\n",
      "memory usage: 1.4+ MB\n"
     ]
    }
   ],
   "source": [
    "# type conversion\n",
    "cols = ['width', 'height', 'xmin', 'xmax', 'ymin', 'ymax']\n",
    "df[cols] = df[cols].astype(int)\n",
    "df.info()"
   ],
   "metadata": {
    "collapsed": false,
    "ExecuteTime": {
     "end_time": "2023-12-02T03:39:05.964933Z",
     "start_time": "2023-12-02T03:39:05.953606Z"
    }
   },
   "id": "34fdded8f6e4bb98"
  },
  {
   "cell_type": "code",
   "execution_count": 105,
   "outputs": [],
   "source": [
    "# center x, center y\n",
    "df['center_x'] = ((df['xmax']+df['xmin'])/2)/df['width']\n",
    "df['center_y'] = ((df['ymax']+df['ymin'])/2)/df['height']\n",
    "# w & h\n",
    "df['w'] = (df['xmax']-df['xmin'])/df['width']\n",
    "df['h'] = (df['ymax']-df['ymin'])/df['height']"
   ],
   "metadata": {
    "collapsed": false,
    "ExecuteTime": {
     "end_time": "2023-12-02T03:39:06.796307Z",
     "start_time": "2023-12-02T03:39:06.789848Z"
    }
   },
   "id": "554a86156372dea7"
  },
  {
   "cell_type": "code",
   "execution_count": 106,
   "outputs": [
    {
     "data": {
      "text/plain": "                                            filename  width  height  \\\n0  datasets/Images/n02097658-silky_terrier/n02097...    500     375   \n1  datasets/Images/n02097658-silky_terrier/n02097...    375     500   \n2  datasets/Images/n02097658-silky_terrier/n02097...    448     400   \n3  datasets/Images/n02097658-silky_terrier/n02097...    500     333   \n4  datasets/Images/n02097658-silky_terrier/n02097...    333     500   \n\n            name  xmin  xmax  ymin  ymax  center_x  center_y         w  \\\n0  silky_terrier    82   378     7   355  0.460000  0.482667  0.592000   \n1  silky_terrier    43   321   270   498  0.485333  0.768000  0.741333   \n2  silky_terrier    41   296    30   398  0.376116  0.535000  0.569196   \n3  silky_terrier   146   356    10   332  0.502000  0.513514  0.420000   \n4  silky_terrier     0   331    12   498  0.496997  0.510000  0.993994   \n\n          h  \n0  0.928000  \n1  0.456000  \n2  0.920000  \n3  0.966967  \n4  0.972000  ",
      "text/html": "<div>\n<style scoped>\n    .dataframe tbody tr th:only-of-type {\n        vertical-align: middle;\n    }\n\n    .dataframe tbody tr th {\n        vertical-align: top;\n    }\n\n    .dataframe thead th {\n        text-align: right;\n    }\n</style>\n<table border=\"1\" class=\"dataframe\">\n  <thead>\n    <tr style=\"text-align: right;\">\n      <th></th>\n      <th>filename</th>\n      <th>width</th>\n      <th>height</th>\n      <th>name</th>\n      <th>xmin</th>\n      <th>xmax</th>\n      <th>ymin</th>\n      <th>ymax</th>\n      <th>center_x</th>\n      <th>center_y</th>\n      <th>w</th>\n      <th>h</th>\n    </tr>\n  </thead>\n  <tbody>\n    <tr>\n      <th>0</th>\n      <td>datasets/Images/n02097658-silky_terrier/n02097...</td>\n      <td>500</td>\n      <td>375</td>\n      <td>silky_terrier</td>\n      <td>82</td>\n      <td>378</td>\n      <td>7</td>\n      <td>355</td>\n      <td>0.460000</td>\n      <td>0.482667</td>\n      <td>0.592000</td>\n      <td>0.928000</td>\n    </tr>\n    <tr>\n      <th>1</th>\n      <td>datasets/Images/n02097658-silky_terrier/n02097...</td>\n      <td>375</td>\n      <td>500</td>\n      <td>silky_terrier</td>\n      <td>43</td>\n      <td>321</td>\n      <td>270</td>\n      <td>498</td>\n      <td>0.485333</td>\n      <td>0.768000</td>\n      <td>0.741333</td>\n      <td>0.456000</td>\n    </tr>\n    <tr>\n      <th>2</th>\n      <td>datasets/Images/n02097658-silky_terrier/n02097...</td>\n      <td>448</td>\n      <td>400</td>\n      <td>silky_terrier</td>\n      <td>41</td>\n      <td>296</td>\n      <td>30</td>\n      <td>398</td>\n      <td>0.376116</td>\n      <td>0.535000</td>\n      <td>0.569196</td>\n      <td>0.920000</td>\n    </tr>\n    <tr>\n      <th>3</th>\n      <td>datasets/Images/n02097658-silky_terrier/n02097...</td>\n      <td>500</td>\n      <td>333</td>\n      <td>silky_terrier</td>\n      <td>146</td>\n      <td>356</td>\n      <td>10</td>\n      <td>332</td>\n      <td>0.502000</td>\n      <td>0.513514</td>\n      <td>0.420000</td>\n      <td>0.966967</td>\n    </tr>\n    <tr>\n      <th>4</th>\n      <td>datasets/Images/n02097658-silky_terrier/n02097...</td>\n      <td>333</td>\n      <td>500</td>\n      <td>silky_terrier</td>\n      <td>0</td>\n      <td>331</td>\n      <td>12</td>\n      <td>498</td>\n      <td>0.496997</td>\n      <td>0.510000</td>\n      <td>0.993994</td>\n      <td>0.972000</td>\n    </tr>\n  </tbody>\n</table>\n</div>"
     },
     "execution_count": 106,
     "metadata": {},
     "output_type": "execute_result"
    }
   ],
   "source": [
    "df.head()"
   ],
   "metadata": {
    "collapsed": false,
    "ExecuteTime": {
     "end_time": "2023-12-02T03:39:07.426955Z",
     "start_time": "2023-12-02T03:39:07.419947Z"
    }
   },
   "id": "727555ac7e35b13"
  },
  {
   "cell_type": "markdown",
   "source": [
    "---\n",
    "## Split data into train and test"
   ],
   "metadata": {
    "collapsed": false
   },
   "id": "27ec790cf93afe04"
  },
  {
   "cell_type": "code",
   "execution_count": 107,
   "outputs": [],
   "source": [
    "images = df['filename'].unique()"
   ],
   "metadata": {
    "collapsed": false,
    "ExecuteTime": {
     "end_time": "2023-12-02T03:39:09.800964Z",
     "start_time": "2023-12-02T03:39:09.791892Z"
    }
   },
   "id": "69259fa31da588"
  },
  {
   "cell_type": "code",
   "execution_count": 108,
   "outputs": [
    {
     "data": {
      "text/plain": "19960"
     },
     "execution_count": 108,
     "metadata": {},
     "output_type": "execute_result"
    }
   ],
   "source": [
    "len(images)"
   ],
   "metadata": {
    "collapsed": false,
    "ExecuteTime": {
     "end_time": "2023-12-02T03:39:10.143118Z",
     "start_time": "2023-12-02T03:39:10.130731Z"
    }
   },
   "id": "22b9f620eac9092f"
  },
  {
   "cell_type": "code",
   "execution_count": 109,
   "outputs": [],
   "source": [
    "# 80% train and 20% test\n",
    "img_df = pd.DataFrame(images, columns=['filename'])\n",
    "img_train = tuple(img_df.sample(frac=0.8)['filename'])"
   ],
   "metadata": {
    "collapsed": false,
    "ExecuteTime": {
     "end_time": "2023-12-02T03:39:10.880890Z",
     "start_time": "2023-12-02T03:39:10.870562Z"
    }
   },
   "id": "2d5d713ece81839"
  },
  {
   "cell_type": "code",
   "execution_count": 110,
   "outputs": [],
   "source": [
    "img_test = tuple(img_df.query(f'filename not in {img_train}')['filename'])"
   ],
   "metadata": {
    "collapsed": false,
    "ExecuteTime": {
     "end_time": "2023-12-02T03:39:12.516861Z",
     "start_time": "2023-12-02T03:39:12.372243Z"
    }
   },
   "id": "3df43a34e5f2f9a6"
  },
  {
   "cell_type": "code",
   "execution_count": 111,
   "outputs": [
    {
     "data": {
      "text/plain": "(15968, 3992)"
     },
     "execution_count": 111,
     "metadata": {},
     "output_type": "execute_result"
    }
   ],
   "source": [
    "len(img_train), len(img_test)"
   ],
   "metadata": {
    "collapsed": false,
    "ExecuteTime": {
     "end_time": "2023-12-02T03:39:13.346262Z",
     "start_time": "2023-12-02T03:39:13.315661Z"
    }
   },
   "id": "b4b1077c28c1b1eb"
  },
  {
   "cell_type": "code",
   "execution_count": 112,
   "outputs": [],
   "source": [
    "train_df = df.query(f'filename in {img_train}')\n",
    "test_df = df.query(f'filename in {img_test}')"
   ],
   "metadata": {
    "collapsed": false,
    "ExecuteTime": {
     "end_time": "2023-12-02T03:39:15.336276Z",
     "start_time": "2023-12-02T03:39:15.153544Z"
    }
   },
   "id": "8eb8063ca1e84d67"
  },
  {
   "cell_type": "code",
   "execution_count": 113,
   "outputs": [
    {
     "data": {
      "text/plain": "                                            filename  width  height  \\\n0  datasets/Images/n02097658-silky_terrier/n02097...    500     375   \n1  datasets/Images/n02097658-silky_terrier/n02097...    375     500   \n2  datasets/Images/n02097658-silky_terrier/n02097...    448     400   \n3  datasets/Images/n02097658-silky_terrier/n02097...    500     333   \n4  datasets/Images/n02097658-silky_terrier/n02097...    333     500   \n\n            name  xmin  xmax  ymin  ymax  center_x  center_y         w  \\\n0  silky_terrier    82   378     7   355  0.460000  0.482667  0.592000   \n1  silky_terrier    43   321   270   498  0.485333  0.768000  0.741333   \n2  silky_terrier    41   296    30   398  0.376116  0.535000  0.569196   \n3  silky_terrier   146   356    10   332  0.502000  0.513514  0.420000   \n4  silky_terrier     0   331    12   498  0.496997  0.510000  0.993994   \n\n          h  \n0  0.928000  \n1  0.456000  \n2  0.920000  \n3  0.966967  \n4  0.972000  ",
      "text/html": "<div>\n<style scoped>\n    .dataframe tbody tr th:only-of-type {\n        vertical-align: middle;\n    }\n\n    .dataframe tbody tr th {\n        vertical-align: top;\n    }\n\n    .dataframe thead th {\n        text-align: right;\n    }\n</style>\n<table border=\"1\" class=\"dataframe\">\n  <thead>\n    <tr style=\"text-align: right;\">\n      <th></th>\n      <th>filename</th>\n      <th>width</th>\n      <th>height</th>\n      <th>name</th>\n      <th>xmin</th>\n      <th>xmax</th>\n      <th>ymin</th>\n      <th>ymax</th>\n      <th>center_x</th>\n      <th>center_y</th>\n      <th>w</th>\n      <th>h</th>\n    </tr>\n  </thead>\n  <tbody>\n    <tr>\n      <th>0</th>\n      <td>datasets/Images/n02097658-silky_terrier/n02097...</td>\n      <td>500</td>\n      <td>375</td>\n      <td>silky_terrier</td>\n      <td>82</td>\n      <td>378</td>\n      <td>7</td>\n      <td>355</td>\n      <td>0.460000</td>\n      <td>0.482667</td>\n      <td>0.592000</td>\n      <td>0.928000</td>\n    </tr>\n    <tr>\n      <th>1</th>\n      <td>datasets/Images/n02097658-silky_terrier/n02097...</td>\n      <td>375</td>\n      <td>500</td>\n      <td>silky_terrier</td>\n      <td>43</td>\n      <td>321</td>\n      <td>270</td>\n      <td>498</td>\n      <td>0.485333</td>\n      <td>0.768000</td>\n      <td>0.741333</td>\n      <td>0.456000</td>\n    </tr>\n    <tr>\n      <th>2</th>\n      <td>datasets/Images/n02097658-silky_terrier/n02097...</td>\n      <td>448</td>\n      <td>400</td>\n      <td>silky_terrier</td>\n      <td>41</td>\n      <td>296</td>\n      <td>30</td>\n      <td>398</td>\n      <td>0.376116</td>\n      <td>0.535000</td>\n      <td>0.569196</td>\n      <td>0.920000</td>\n    </tr>\n    <tr>\n      <th>3</th>\n      <td>datasets/Images/n02097658-silky_terrier/n02097...</td>\n      <td>500</td>\n      <td>333</td>\n      <td>silky_terrier</td>\n      <td>146</td>\n      <td>356</td>\n      <td>10</td>\n      <td>332</td>\n      <td>0.502000</td>\n      <td>0.513514</td>\n      <td>0.420000</td>\n      <td>0.966967</td>\n    </tr>\n    <tr>\n      <th>4</th>\n      <td>datasets/Images/n02097658-silky_terrier/n02097...</td>\n      <td>333</td>\n      <td>500</td>\n      <td>silky_terrier</td>\n      <td>0</td>\n      <td>331</td>\n      <td>12</td>\n      <td>498</td>\n      <td>0.496997</td>\n      <td>0.510000</td>\n      <td>0.993994</td>\n      <td>0.972000</td>\n    </tr>\n  </tbody>\n</table>\n</div>"
     },
     "execution_count": 113,
     "metadata": {},
     "output_type": "execute_result"
    }
   ],
   "source": [
    "train_df.head()"
   ],
   "metadata": {
    "collapsed": false,
    "ExecuteTime": {
     "end_time": "2023-12-02T03:39:15.660689Z",
     "start_time": "2023-12-02T03:39:15.645513Z"
    }
   },
   "id": "21f47a7d26b72e45"
  },
  {
   "cell_type": "code",
   "execution_count": 114,
   "outputs": [
    {
     "data": {
      "text/plain": "                                             filename  width  height  \\\n11  datasets/Images/n02097658-silky_terrier/n02097...    500     375   \n16  datasets/Images/n02097658-silky_terrier/n02097...    375     500   \n17  datasets/Images/n02097658-silky_terrier/n02097...    500     375   \n18  datasets/Images/n02097658-silky_terrier/n02097...    500     400   \n26  datasets/Images/n02097658-silky_terrier/n02097...    500     375   \n\n             name  xmin  xmax  ymin  ymax  center_x  center_y         w  \\\n11  silky_terrier   116   454     2   364  0.570000  0.488000  0.676000   \n16  silky_terrier    10   321    10   480  0.441333  0.490000  0.829333   \n17  silky_terrier   111   371    24   289  0.482000  0.417333  0.520000   \n18  silky_terrier   172   420    20   399  0.592000  0.523750  0.496000   \n26  silky_terrier    57   432     6   346  0.489000  0.469333  0.750000   \n\n           h  \n11  0.965333  \n16  0.940000  \n17  0.706667  \n18  0.947500  \n26  0.906667  ",
      "text/html": "<div>\n<style scoped>\n    .dataframe tbody tr th:only-of-type {\n        vertical-align: middle;\n    }\n\n    .dataframe tbody tr th {\n        vertical-align: top;\n    }\n\n    .dataframe thead th {\n        text-align: right;\n    }\n</style>\n<table border=\"1\" class=\"dataframe\">\n  <thead>\n    <tr style=\"text-align: right;\">\n      <th></th>\n      <th>filename</th>\n      <th>width</th>\n      <th>height</th>\n      <th>name</th>\n      <th>xmin</th>\n      <th>xmax</th>\n      <th>ymin</th>\n      <th>ymax</th>\n      <th>center_x</th>\n      <th>center_y</th>\n      <th>w</th>\n      <th>h</th>\n    </tr>\n  </thead>\n  <tbody>\n    <tr>\n      <th>11</th>\n      <td>datasets/Images/n02097658-silky_terrier/n02097...</td>\n      <td>500</td>\n      <td>375</td>\n      <td>silky_terrier</td>\n      <td>116</td>\n      <td>454</td>\n      <td>2</td>\n      <td>364</td>\n      <td>0.570000</td>\n      <td>0.488000</td>\n      <td>0.676000</td>\n      <td>0.965333</td>\n    </tr>\n    <tr>\n      <th>16</th>\n      <td>datasets/Images/n02097658-silky_terrier/n02097...</td>\n      <td>375</td>\n      <td>500</td>\n      <td>silky_terrier</td>\n      <td>10</td>\n      <td>321</td>\n      <td>10</td>\n      <td>480</td>\n      <td>0.441333</td>\n      <td>0.490000</td>\n      <td>0.829333</td>\n      <td>0.940000</td>\n    </tr>\n    <tr>\n      <th>17</th>\n      <td>datasets/Images/n02097658-silky_terrier/n02097...</td>\n      <td>500</td>\n      <td>375</td>\n      <td>silky_terrier</td>\n      <td>111</td>\n      <td>371</td>\n      <td>24</td>\n      <td>289</td>\n      <td>0.482000</td>\n      <td>0.417333</td>\n      <td>0.520000</td>\n      <td>0.706667</td>\n    </tr>\n    <tr>\n      <th>18</th>\n      <td>datasets/Images/n02097658-silky_terrier/n02097...</td>\n      <td>500</td>\n      <td>400</td>\n      <td>silky_terrier</td>\n      <td>172</td>\n      <td>420</td>\n      <td>20</td>\n      <td>399</td>\n      <td>0.592000</td>\n      <td>0.523750</td>\n      <td>0.496000</td>\n      <td>0.947500</td>\n    </tr>\n    <tr>\n      <th>26</th>\n      <td>datasets/Images/n02097658-silky_terrier/n02097...</td>\n      <td>500</td>\n      <td>375</td>\n      <td>silky_terrier</td>\n      <td>57</td>\n      <td>432</td>\n      <td>6</td>\n      <td>346</td>\n      <td>0.489000</td>\n      <td>0.469333</td>\n      <td>0.750000</td>\n      <td>0.906667</td>\n    </tr>\n  </tbody>\n</table>\n</div>"
     },
     "execution_count": 114,
     "metadata": {},
     "output_type": "execute_result"
    }
   ],
   "source": [
    "test_df.head()"
   ],
   "metadata": {
    "collapsed": false,
    "ExecuteTime": {
     "end_time": "2023-12-02T03:39:39.009687Z",
     "start_time": "2023-12-02T03:39:38.941316Z"
    }
   },
   "id": "51dfbcd2fe65497e"
  },
  {
   "cell_type": "markdown",
   "source": [
    "## Assign Id number to object names"
   ],
   "metadata": {
    "collapsed": false
   },
   "id": "c0e609da4c36ff5d"
  },
  {
   "cell_type": "code",
   "execution_count": 141,
   "outputs": [],
   "source": [
    "# label encoding\n",
    "def get_second_part_of_folder_names(path):\n",
    "    folder_names = []\n",
    "    # Parcourir tous les fichiers et dossiers dans le répertoire courant\n",
    "    for item in os.listdir(path):\n",
    "        full_path = os.path.join(path, item)\n",
    "        # Vérifier si l'item est un dossier\n",
    "        if os.path.isdir(full_path):\n",
    "            # Splitter le nom du dossier sur le tiret\n",
    "            parts = item.split('-')            \n",
    "\n",
    "            # Vérifier si le dossier a un nom avec un tiret et ajouter la deuxième partie\n",
    "            if len(parts) > 1:\n",
    "                folder_names.append(parts[1])\n",
    "\n",
    "    return tuple(folder_names)"
   ],
   "metadata": {
    "collapsed": false,
    "ExecuteTime": {
     "end_time": "2023-12-02T04:02:03.793002Z",
     "start_time": "2023-12-02T04:02:03.783539Z"
    }
   },
   "id": "e79dc04b895250a9"
  },
  {
   "cell_type": "code",
   "execution_count": 145,
   "outputs": [
    {
     "name": "stdout",
     "output_type": "stream",
     "text": [
      "{'silky_terrier':0, 'Scottish_deerhound':1, 'Chesapeake_Bay_retriever':2, 'Ibizan_hound':3, 'wire':4, 'Saluki':5, 'cocker_spaniel':6, 'schipperke':7, 'borzoi':8, 'Pembroke':9, 'komondor':10, 'Staffordshire_bullterrier':11, 'standard_poodle':12, 'Eskimo_dog':13, 'English_foxhound':14, 'golden_retriever':15, 'Sealyham_terrier':16, 'Japanese_spaniel':17, 'miniature_schnauzer':18, 'malamute':19, 'malinois':20, 'Pekinese':21, 'giant_schnauzer':22, 'Mexican_hairless':23, 'Doberman':24, 'standard_schnauzer':25, 'dhole':26, 'German_shepherd':27, 'Bouvier_des_Flandres':28, 'Siberian_husky':29, 'Norwich_terrier':30, 'Irish_terrier':31, 'Norfolk_terrier':32, 'Saint_Bernard':33, 'Border_terrier':34, 'briard':35, 'Tibetan_mastiff':36, 'bull_mastiff':37, 'Maltese_dog':38, 'Kerry_blue_terrier':39, 'kuvasz':40, 'Greater_Swiss_Mountain_dog':41, 'Lakeland_terrier':42, 'Blenheim_spaniel':43, 'basset':44, 'West_Highland_white_terrier':45, 'Chihuahua':46, 'Border_collie':47, 'redbone':48, 'Irish_wolfhound':49, 'bluetick':50, 'miniature_poodle':51, 'Cardigan':52, 'EntleBucher':53, 'Norwegian_elkhound':54, 'German_short':55, 'Bernese_mountain_dog':56, 'papillon':57, 'Tibetan_terrier':58, 'Gordon_setter':59, 'American_Staffordshire_terrier':60, 'vizsla':61, 'kelpie':62, 'Weimaraner':63, 'miniature_pinscher':64, 'boxer':65, 'chow':66, 'Old_English_sheepdog':67, 'pug':68, 'Rhodesian_ridgeback':69, 'Scotch_terrier':70, 'Shih':71, 'affenpinscher':72, 'whippet':73, 'Sussex_spaniel':74, 'otterhound':75, 'flat':76, 'English_setter':77, 'Italian_greyhound':78, 'Labrador_retriever':79, 'collie':80, 'cairn':81, 'Rottweiler':82, 'Australian_terrier':83, 'toy_terrier':84, 'Shetland_sheepdog':85, 'African_hunting_dog':86, 'Newfoundland':87, 'Walker_hound':88, 'Lhasa':89, 'beagle':90, 'Samoyed':91, 'Great_Dane':92, 'Airedale':93, 'bloodhound':94, 'Irish_setter':95, 'keeshond':96, 'Dandie_Dinmont':97, 'basenji':98, 'Bedlington_terrier':99, 'Appenzeller':100, 'clumber':101, 'toy_poodle':102, 'Great_Pyrenees':103, 'English_springer':104, 'Afghan_hound':105, 'Brittany_spaniel':106, 'Welsh_springer_spaniel':107, 'Boston_bull':108, 'dingo':109, 'soft':110, 'curly':111, 'French_bulldog':112, 'Irish_water_spaniel':113, 'Pomeranian':114, 'Brabancon_griffon':115, 'Yorkshire_terrier':116, 'groenendael':117, 'Leonberg':118, 'black':119, }\n"
     ]
    }
   ],
   "source": [
    "directory_path = 'datasets/Annotation/'\n",
    "items = get_second_part_of_folder_names(directory_path)\n",
    "string = \"{\"\n",
    "for i, item in enumerate(items):\n",
    "    string += f\"\\'{item}\\':{i}, \"\n",
    "    \n",
    "string += '}'\n",
    "print(string)"
   ],
   "metadata": {
    "collapsed": false,
    "ExecuteTime": {
     "end_time": "2023-12-02T04:05:41.655585Z",
     "start_time": "2023-12-02T04:05:41.645866Z"
    }
   },
   "id": "75f6450262480d19"
  },
  {
   "cell_type": "code",
   "execution_count": 146,
   "outputs": [],
   "source": [
    "def label_encoding(x):\n",
    "    labels = {'silky_terrier':0, 'Scottish_deerhound':1, 'Chesapeake_Bay_retriever':2, 'Ibizan_hound':3,'wire':4, 'Saluki':5, 'cocker_spaniel':6, 'schipperke':7, 'borzoi':8, 'Pembroke':9, 'komondor':10, 'Staffordshire_bullterrier':11, 'standard_poodle':12, 'Eskimo_dog':13, 'English_foxhound':14, 'golden_retriever':15, 'Sealyham_terrier':16, 'Japanese_spaniel':17, 'miniature_schnauzer':18, 'malamute':19, 'malinois':20, 'Pekinese':21, 'giant_schnauzer':22, 'Mexican_hairless':23, 'Doberman':24, 'standard_schnauzer':25, 'dhole':26, 'German_shepherd':27, 'Bouvier_des_Flandres':28, 'Siberian_husky':29, 'Norwich_terrier':30, 'Irish_terrier':31, 'Norfolk_terrier':32, 'Saint_Bernard':33, 'Border_terrier':34, 'briard':35, 'Tibetan_mastiff':36, 'bull_mastiff':37, 'Maltese_dog':38, 'Kerry_blue_terrier':39, 'kuvasz':40, 'Greater_Swiss_Mountain_dog':41, 'Lakeland_terrier':42, 'Blenheim_spaniel':43, 'basset':44, 'West_Highland_white_terrier':45, 'Chihuahua':46, 'Border_collie':47, 'redbone':48, 'Irish_wolfhound':49, 'bluetick':50, 'miniature_poodle':51, 'Cardigan':52, 'EntleBucher':53, 'Norwegian_elkhound':54, 'German_short':55, 'Bernese_mountain_dog':56, 'papillon':57, 'Tibetan_terrier':58, 'Gordon_setter':59, 'American_Staffordshire_terrier':60, 'vizsla':61, 'kelpie':62, 'Weimaraner':63, 'miniature_pinscher':64, 'boxer':65, 'chow':66, 'Old_English_sheepdog':67, 'pug':68, 'Rhodesian_ridgeback':69, 'Scotch_terrier':70, 'Shih':71, 'affenpinscher':72, 'whippet':73, 'Sussex_spaniel':74, 'otterhound':75, 'flat':76, 'English_setter':77, 'Italian_greyhound':78, 'Labrador_retriever':79, 'collie':80, 'cairn':81, 'Rottweiler':82, 'Australian_terrier':83, 'toy_terrier':84, 'Shetland_sheepdog':85, 'African_hunting_dog':86, 'Newfoundland':87, 'Walker_hound':88, 'Lhasa':89, 'beagle':90, 'Samoyed':91, 'Great_Dane':92, 'Airedale':93, 'bloodhound':94, 'Irish_setter':95, 'keeshond':96, 'Dandie_Dinmont':97, 'basenji':98, 'Bedlington_terrier':99, 'Appenzeller':100, 'clumber':101, 'toy_poodle':102, 'Great_Pyrenees':103, 'English_springer':104, 'Afghan_hound':105, 'Brittany_spaniel':106, 'Welsh_springer_spaniel':107, 'Boston_bull':108, 'dingo':109, 'soft':110, 'curly':111, 'French_bulldog':112, 'Irish_water_spaniel':113, 'Pomeranian':114, 'Brabancon_griffon':115, 'Yorkshire_terrier':116, 'groenendael':117, 'Leonberg':118, 'black':119}\n",
    "    \n",
    "    return labels[x]"
   ],
   "metadata": {
    "collapsed": false,
    "ExecuteTime": {
     "end_time": "2023-12-02T04:07:17.718043Z",
     "start_time": "2023-12-02T04:07:17.693293Z"
    }
   },
   "id": "32e1cee4a80a37a1"
  },
  {
   "cell_type": "code",
   "execution_count": 148,
   "outputs": [
    {
     "data": {
      "text/plain": "89"
     },
     "execution_count": 148,
     "metadata": {},
     "output_type": "execute_result"
    }
   ],
   "source": [
    "label_encoding('Lhasa')"
   ],
   "metadata": {
    "collapsed": false,
    "ExecuteTime": {
     "end_time": "2023-12-02T04:07:34.057185Z",
     "start_time": "2023-12-02T04:07:34.046047Z"
    }
   },
   "id": "a9d4746de9563cbf"
  },
  {
   "cell_type": "code",
   "execution_count": null,
   "outputs": [],
   "source": [],
   "metadata": {
    "collapsed": false
   },
   "id": "c7ceb9264aae5781"
  }
 ],
 "metadata": {
  "kernelspec": {
   "display_name": "Python 3 (ipykernel)",
   "language": "python",
   "name": "python3"
  },
  "language_info": {
   "codemirror_mode": {
    "name": "ipython",
    "version": 3
   },
   "file_extension": ".py",
   "mimetype": "text/x-python",
   "name": "python",
   "nbconvert_exporter": "python",
   "pygments_lexer": "ipython3",
   "version": "3.11.5"
  }
 },
 "nbformat": 4,
 "nbformat_minor": 5
}
