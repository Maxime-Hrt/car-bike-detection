{
 "cells": [
  {
   "cell_type": "code",
   "execution_count": 6,
   "id": "6c098054",
   "metadata": {
    "ExecuteTime": {
     "end_time": "2023-12-02T01:32:47.018058Z",
     "start_time": "2023-12-02T01:32:46.299743Z"
    }
   },
   "outputs": [],
   "source": [
    "import os\n",
    "from glob import glob\n",
    "import pandas as pd\n",
    "from functools import reduce\n",
    "from xml.etree import ElementTree as et"
   ]
  },
  {
   "cell_type": "markdown",
   "source": [
    "## XML File process\n",
    "* Load all xml files and store them in a list\n",
    "* Read xml files"
   ],
   "metadata": {
    "collapsed": false
   },
   "id": "2b75d5ae5c19adc9"
  },
  {
   "cell_type": "code",
   "execution_count": 32,
   "outputs": [],
   "source": [
    "xml_files = glob('datasets/Annotation/*/*.xml')"
   ],
   "metadata": {
    "collapsed": false,
    "ExecuteTime": {
     "end_time": "2023-12-02T02:17:56.024105Z",
     "start_time": "2023-12-02T02:17:55.873592Z"
    }
   },
   "id": "9858e0f17d837124"
  },
  {
   "cell_type": "code",
   "execution_count": 43,
   "outputs": [],
   "source": [
    "def extract_text(filename):\n",
    "    tree = et.parse(filename)\n",
    "    root = tree.getroot()\n",
    "    \n",
    "    # extract filename\n",
    "    image_name = f\"{root.find('filename').text}.jpg\"\n",
    "    # width and height of the image\n",
    "    width = root.find('size').find('width').text\n",
    "    height = root.find('size').find('height').text\n",
    "    objs = root.findall('object')\n",
    "    parser = []\n",
    "    for obj in objs:\n",
    "        name = obj.find('name').text\n",
    "        bndbox = obj.find('bndbox')\n",
    "        xmin = bndbox.find('xmin').text\n",
    "        xmax = bndbox.find('xmax').text\n",
    "        ymin = bndbox.find('ymin').text\n",
    "        ymax = bndbox.find('ymax').text\n",
    "        parser.append([image_name, width, height, name, xmin, xmax, ymin, ymax])\n",
    "        \n",
    "    return parser"
   ],
   "metadata": {
    "collapsed": false,
    "ExecuteTime": {
     "end_time": "2023-12-02T02:22:09.371477Z",
     "start_time": "2023-12-02T02:22:09.359277Z"
    }
   },
   "id": "f706c29feadf4004"
  },
  {
   "cell_type": "code",
   "execution_count": 44,
   "outputs": [],
   "source": [
    "parser_all = list(map(extract_text, xml_files))"
   ],
   "metadata": {
    "collapsed": false,
    "ExecuteTime": {
     "end_time": "2023-12-02T02:22:13.347536Z",
     "start_time": "2023-12-02T02:22:10.627355Z"
    }
   },
   "id": "9ff44762760197ff"
  },
  {
   "cell_type": "code",
   "execution_count": 47,
   "outputs": [],
   "source": [
    "data = reduce(lambda x, y : x+y, parser_all)"
   ],
   "metadata": {
    "collapsed": false,
    "ExecuteTime": {
     "end_time": "2023-12-02T02:46:55.551470Z",
     "start_time": "2023-12-02T02:46:54.918503Z"
    }
   },
   "id": "6286f5fd0690af0a"
  },
  {
   "cell_type": "code",
   "execution_count": 49,
   "outputs": [],
   "source": [
    "df = pd.DataFrame(data, columns= ['filename', 'width', 'height', 'name', 'xmin', 'xmax', 'ymin', 'ymax'])"
   ],
   "metadata": {
    "collapsed": false,
    "ExecuteTime": {
     "end_time": "2023-12-02T02:48:10.520213Z",
     "start_time": "2023-12-02T02:48:10.502459Z"
    }
   },
   "id": "126d73335dccb2b2"
  },
  {
   "cell_type": "code",
   "execution_count": 50,
   "outputs": [
    {
     "data": {
      "text/plain": "             filename width height           name xmin xmax ymin ymax\n0   n02097658_595.jpg   500    375  silky_terrier   82  378    7  355\n1  n02097658_4869.jpg   375    500  silky_terrier   43  321  270  498\n2    n02097658_26.jpg   448    400  silky_terrier   41  296   30  398\n3   n02097658_422.jpg   500    333  silky_terrier  146  356   10  332\n4  n02097658_9222.jpg   333    500  silky_terrier    0  331   12  498",
      "text/html": "<div>\n<style scoped>\n    .dataframe tbody tr th:only-of-type {\n        vertical-align: middle;\n    }\n\n    .dataframe tbody tr th {\n        vertical-align: top;\n    }\n\n    .dataframe thead th {\n        text-align: right;\n    }\n</style>\n<table border=\"1\" class=\"dataframe\">\n  <thead>\n    <tr style=\"text-align: right;\">\n      <th></th>\n      <th>filename</th>\n      <th>width</th>\n      <th>height</th>\n      <th>name</th>\n      <th>xmin</th>\n      <th>xmax</th>\n      <th>ymin</th>\n      <th>ymax</th>\n    </tr>\n  </thead>\n  <tbody>\n    <tr>\n      <th>0</th>\n      <td>n02097658_595.jpg</td>\n      <td>500</td>\n      <td>375</td>\n      <td>silky_terrier</td>\n      <td>82</td>\n      <td>378</td>\n      <td>7</td>\n      <td>355</td>\n    </tr>\n    <tr>\n      <th>1</th>\n      <td>n02097658_4869.jpg</td>\n      <td>375</td>\n      <td>500</td>\n      <td>silky_terrier</td>\n      <td>43</td>\n      <td>321</td>\n      <td>270</td>\n      <td>498</td>\n    </tr>\n    <tr>\n      <th>2</th>\n      <td>n02097658_26.jpg</td>\n      <td>448</td>\n      <td>400</td>\n      <td>silky_terrier</td>\n      <td>41</td>\n      <td>296</td>\n      <td>30</td>\n      <td>398</td>\n    </tr>\n    <tr>\n      <th>3</th>\n      <td>n02097658_422.jpg</td>\n      <td>500</td>\n      <td>333</td>\n      <td>silky_terrier</td>\n      <td>146</td>\n      <td>356</td>\n      <td>10</td>\n      <td>332</td>\n    </tr>\n    <tr>\n      <th>4</th>\n      <td>n02097658_9222.jpg</td>\n      <td>333</td>\n      <td>500</td>\n      <td>silky_terrier</td>\n      <td>0</td>\n      <td>331</td>\n      <td>12</td>\n      <td>498</td>\n    </tr>\n  </tbody>\n</table>\n</div>"
     },
     "execution_count": 50,
     "metadata": {},
     "output_type": "execute_result"
    }
   ],
   "source": [
    "df.head()"
   ],
   "metadata": {
    "collapsed": false,
    "ExecuteTime": {
     "end_time": "2023-12-02T02:48:15.198179Z",
     "start_time": "2023-12-02T02:48:15.107899Z"
    }
   },
   "id": "e9d028a89b6cfe37"
  },
  {
   "cell_type": "code",
   "execution_count": 51,
   "outputs": [
    {
     "data": {
      "text/plain": "(22126, 8)"
     },
     "execution_count": 51,
     "metadata": {},
     "output_type": "execute_result"
    }
   ],
   "source": [
    "df.shape"
   ],
   "metadata": {
    "collapsed": false,
    "ExecuteTime": {
     "end_time": "2023-12-02T02:48:25.197604Z",
     "start_time": "2023-12-02T02:48:25.152021Z"
    }
   },
   "id": "ae702c943d77579f"
  },
  {
   "cell_type": "code",
   "execution_count": 52,
   "outputs": [
    {
     "data": {
      "text/plain": "name\nAfghan_hound          287\nMaltese_dog           264\nIrish_wolfhound       263\nLeonberg              256\nScottish_deerhound    246\n                     ... \nSussex_spaniel        153\nmalinois              153\nPekinese              152\ngroenendael           152\nredbone               151\nName: count, Length: 120, dtype: int64"
     },
     "execution_count": 52,
     "metadata": {},
     "output_type": "execute_result"
    }
   ],
   "source": [
    "df['name'].value_counts()"
   ],
   "metadata": {
    "collapsed": false,
    "ExecuteTime": {
     "end_time": "2023-12-02T02:48:44.567115Z",
     "start_time": "2023-12-02T02:48:44.534425Z"
    }
   },
   "id": "3e209a6db47103e0"
  },
  {
   "cell_type": "code",
   "execution_count": null,
   "outputs": [],
   "source": [],
   "metadata": {
    "collapsed": false
   },
   "id": "9e4d6d9e32cd75fd"
  }
 ],
 "metadata": {
  "kernelspec": {
   "display_name": "Python 3 (ipykernel)",
   "language": "python",
   "name": "python3"
  },
  "language_info": {
   "codemirror_mode": {
    "name": "ipython",
    "version": 3
   },
   "file_extension": ".py",
   "mimetype": "text/x-python",
   "name": "python",
   "nbconvert_exporter": "python",
   "pygments_lexer": "ipython3",
   "version": "3.11.5"
  }
 },
 "nbformat": 4,
 "nbformat_minor": 5
}
