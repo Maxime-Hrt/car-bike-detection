{
 "cells": [
  {
   "cell_type": "code",
   "execution_count": 6,
   "id": "6c098054",
   "metadata": {
    "ExecuteTime": {
     "end_time": "2023-12-02T01:32:47.018058Z",
     "start_time": "2023-12-02T01:32:46.299743Z"
    }
   },
   "outputs": [],
   "source": [
    "from glob import glob\n",
    "import pandas as pd\n",
    "from functools import reduce\n",
    "from xml.etree import ElementTree as et"
   ]
  },
  {
   "cell_type": "markdown",
   "id": "2b75d5ae5c19adc9",
   "metadata": {},
   "source": [
    "## XML File process\n",
    "* Load all xml files and store them in a list\n",
    "* Read xml files"
   ]
  },
  {
   "cell_type": "code",
   "execution_count": 326,
   "id": "584b8b04609d1052",
   "metadata": {
    "ExecuteTime": {
     "end_time": "2023-12-03T00:31:23.632246Z",
     "start_time": "2023-12-03T00:31:19.163136Z"
    }
   },
   "outputs": [],
   "source": [
    "import os\n",
    "import shutil\n",
    "\n",
    "def move_files_to_parent_dir(parent_dir, sub_dirs):\n",
    "    for sub_dir in sub_dirs:\n",
    "        sub_dir_path = os.path.join(parent_dir, sub_dir)\n",
    "\n",
    "        # Vérifier si le sous-dossier existe\n",
    "        if os.path.exists(sub_dir_path):\n",
    "            for filename in os.listdir(sub_dir_path):\n",
    "                src_path = os.path.join(sub_dir_path, filename)\n",
    "\n",
    "                # Vérifier si c'est un fichier avant de le déplacer\n",
    "                if os.path.isfile(src_path):\n",
    "                    dst_path = os.path.join(parent_dir, filename)\n",
    "                    shutil.move(src_path, dst_path)\n",
    "                elif os.path.isdir(src_path):\n",
    "                    # Si c'est un sous-dossier, répéter le processus récursivement\n",
    "                    move_files_to_parent_dir(parent_dir, [os.path.join(sub_dir, filename)])\n",
    "\n",
    "            # Optionnel : Supprimer le sous-dossier maintenant vide\n",
    "            os.rmdir(sub_dir_path)\n",
    "\n",
    "parent_directory = 'datasets'\n",
    "sub_directories = ['Annotation', 'Images']\n",
    "\n",
    "move_files_to_parent_dir(parent_directory, sub_directories)\n"
   ]
  },
  {
   "cell_type": "code",
   "execution_count": 327,
   "id": "d243f6ce29260266",
   "metadata": {
    "ExecuteTime": {
     "end_time": "2023-12-03T00:38:38.154476Z",
     "start_time": "2023-12-03T00:38:33.928490Z"
    }
   },
   "outputs": [],
   "source": [
    "def unknown_filename_to_title(file_path):\n",
    "    # Extraire le nom de base du fichier (sans l'extension)\n",
    "    nom_base = os.path.basename(file_path)\n",
    "    nom_sans_extension = os.path.splitext(nom_base)[0]\n",
    "\n",
    "    # Load the XML file\n",
    "    arbre = et.parse(file_path)\n",
    "    racine = arbre.getroot()\n",
    "\n",
    "    modification_apportee = False\n",
    "\n",
    "    # Search every <filename> and replace %s by the file of the name\n",
    "    for filename in racine.iter('filename'):\n",
    "        if filename.text == '%s':\n",
    "            filename.text = nom_sans_extension\n",
    "            modification_apportee = True\n",
    "\n",
    "    # Save the modified XML file\n",
    "    if modification_apportee:\n",
    "        arbre.write(file_path)\n",
    "\n",
    "def treat_all(folder):\n",
    "    for file in os.listdir(folder):\n",
    "        if file.endswith('.xml'):\n",
    "            full_path = os.path.join(folder, file)\n",
    "            unknown_filename_to_title(full_path)\n",
    "\n",
    "# Exemple d'utilisation\n",
    "dossier_datasets = 'datasets'\n",
    "treat_all(dossier_datasets)\n"
   ]
  },
  {
   "cell_type": "code",
   "execution_count": 328,
   "id": "9858e0f17d837124",
   "metadata": {
    "ExecuteTime": {
     "end_time": "2023-12-03T00:42:08.663705Z",
     "start_time": "2023-12-03T00:42:08.597050Z"
    }
   },
   "outputs": [],
   "source": [
    "xml_files = glob('datasets/*.xml')"
   ]
  },
  {
   "cell_type": "code",
   "execution_count": 329,
   "id": "f706c29feadf4004",
   "metadata": {
    "ExecuteTime": {
     "end_time": "2023-12-03T00:42:10.334260Z",
     "start_time": "2023-12-03T00:42:10.327524Z"
    }
   },
   "outputs": [],
   "source": [
    "def extract_text(filename):\n",
    "    tree = et.parse(filename)\n",
    "    root = tree.getroot()\n",
    "    \n",
    "    # extract filename\n",
    "    image_name = f\"{root.find('filename').text}.jpg\"\n",
    "    # width and height of the image\n",
    "    width = root.find('size').find('width').text\n",
    "    height = root.find('size').find('height').text\n",
    "    objs = root.findall('object')\n",
    "    parser = []\n",
    "    for obj in objs:\n",
    "        name = obj.find('name').text\n",
    "        bndbox = obj.find('bndbox')\n",
    "        xmin = bndbox.find('xmin').text\n",
    "        xmax = bndbox.find('xmax').text\n",
    "        ymin = bndbox.find('ymin').text\n",
    "        ymax = bndbox.find('ymax').text\n",
    "        parser.append([image_name, width, height, name, xmin, xmax, ymin, ymax])\n",
    "        \n",
    "    return parser"
   ]
  },
  {
   "cell_type": "code",
   "execution_count": 330,
   "id": "9ff44762760197ff",
   "metadata": {
    "ExecuteTime": {
     "end_time": "2023-12-03T00:42:14.852245Z",
     "start_time": "2023-12-03T00:42:11.292129Z"
    }
   },
   "outputs": [],
   "source": [
    "parser_all = list(map(extract_text, xml_files))"
   ]
  },
  {
   "cell_type": "code",
   "execution_count": 331,
   "id": "6286f5fd0690af0a",
   "metadata": {
    "ExecuteTime": {
     "end_time": "2023-12-03T00:42:16.995466Z",
     "start_time": "2023-12-03T00:42:15.768353Z"
    }
   },
   "outputs": [],
   "source": [
    "data = reduce(lambda x, y : x+y, parser_all)"
   ]
  },
  {
   "cell_type": "code",
   "execution_count": 332,
   "id": "126d73335dccb2b2",
   "metadata": {
    "ExecuteTime": {
     "end_time": "2023-12-03T00:42:17.650606Z",
     "start_time": "2023-12-03T00:42:17.628417Z"
    }
   },
   "outputs": [],
   "source": [
    "df = pd.DataFrame(data, columns= ['filename', 'width', 'height', 'name', 'xmin', 'xmax', 'ymin', 'ymax'])"
   ]
  },
  {
   "cell_type": "code",
   "execution_count": 333,
   "id": "e9d028a89b6cfe37",
   "metadata": {
    "ExecuteTime": {
     "end_time": "2023-12-03T00:42:18.354794Z",
     "start_time": "2023-12-03T00:42:18.345718Z"
    }
   },
   "outputs": [
    {
     "data": {
      "text/html": [
       "<div>\n",
       "<style scoped>\n",
       "    .dataframe tbody tr th:only-of-type {\n",
       "        vertical-align: middle;\n",
       "    }\n",
       "\n",
       "    .dataframe tbody tr th {\n",
       "        vertical-align: top;\n",
       "    }\n",
       "\n",
       "    .dataframe thead th {\n",
       "        text-align: right;\n",
       "    }\n",
       "</style>\n",
       "<table border=\"1\" class=\"dataframe\">\n",
       "  <thead>\n",
       "    <tr style=\"text-align: right;\">\n",
       "      <th></th>\n",
       "      <th>filename</th>\n",
       "      <th>width</th>\n",
       "      <th>height</th>\n",
       "      <th>name</th>\n",
       "      <th>xmin</th>\n",
       "      <th>xmax</th>\n",
       "      <th>ymin</th>\n",
       "      <th>ymax</th>\n",
       "    </tr>\n",
       "  </thead>\n",
       "  <tbody>\n",
       "    <tr>\n",
       "      <th>0</th>\n",
       "      <td>n02094433_5155.jpg</td>\n",
       "      <td>500</td>\n",
       "      <td>333</td>\n",
       "      <td>Yorkshire_terrier</td>\n",
       "      <td>123</td>\n",
       "      <td>237</td>\n",
       "      <td>80</td>\n",
       "      <td>280</td>\n",
       "    </tr>\n",
       "    <tr>\n",
       "      <th>1</th>\n",
       "      <td>n02109047_5588.jpg</td>\n",
       "      <td>333</td>\n",
       "      <td>500</td>\n",
       "      <td>Great_Dane</td>\n",
       "      <td>75</td>\n",
       "      <td>244</td>\n",
       "      <td>141</td>\n",
       "      <td>405</td>\n",
       "    </tr>\n",
       "    <tr>\n",
       "      <th>2</th>\n",
       "      <td>n02104365_6395.jpg</td>\n",
       "      <td>500</td>\n",
       "      <td>376</td>\n",
       "      <td>schipperke</td>\n",
       "      <td>27</td>\n",
       "      <td>448</td>\n",
       "      <td>42</td>\n",
       "      <td>365</td>\n",
       "    </tr>\n",
       "    <tr>\n",
       "      <th>3</th>\n",
       "      <td>n02108000_2653.jpg</td>\n",
       "      <td>450</td>\n",
       "      <td>450</td>\n",
       "      <td>EntleBucher</td>\n",
       "      <td>90</td>\n",
       "      <td>372</td>\n",
       "      <td>56</td>\n",
       "      <td>429</td>\n",
       "    </tr>\n",
       "    <tr>\n",
       "      <th>4</th>\n",
       "      <td>n02088466_6712.jpg</td>\n",
       "      <td>375</td>\n",
       "      <td>500</td>\n",
       "      <td>bloodhound</td>\n",
       "      <td>56</td>\n",
       "      <td>350</td>\n",
       "      <td>88</td>\n",
       "      <td>412</td>\n",
       "    </tr>\n",
       "  </tbody>\n",
       "</table>\n",
       "</div>"
      ],
      "text/plain": [
       "             filename width height               name xmin xmax ymin ymax\n",
       "0  n02094433_5155.jpg   500    333  Yorkshire_terrier  123  237   80  280\n",
       "1  n02109047_5588.jpg   333    500         Great_Dane   75  244  141  405\n",
       "2  n02104365_6395.jpg   500    376         schipperke   27  448   42  365\n",
       "3  n02108000_2653.jpg   450    450        EntleBucher   90  372   56  429\n",
       "4  n02088466_6712.jpg   375    500         bloodhound   56  350   88  412"
      ]
     },
     "execution_count": 333,
     "metadata": {},
     "output_type": "execute_result"
    }
   ],
   "source": [
    "df.head()"
   ]
  },
  {
   "cell_type": "code",
   "execution_count": 334,
   "id": "ae702c943d77579f",
   "metadata": {
    "ExecuteTime": {
     "end_time": "2023-12-03T00:42:19.543993Z",
     "start_time": "2023-12-03T00:42:19.532542Z"
    }
   },
   "outputs": [
    {
     "data": {
      "text/plain": [
       "(22126, 8)"
      ]
     },
     "execution_count": 334,
     "metadata": {},
     "output_type": "execute_result"
    }
   ],
   "source": [
    "df.shape"
   ]
  },
  {
   "cell_type": "code",
   "execution_count": 335,
   "id": "3e209a6db47103e0",
   "metadata": {
    "ExecuteTime": {
     "end_time": "2023-12-03T00:42:25.628703Z",
     "start_time": "2023-12-03T00:42:24.503391Z"
    }
   },
   "outputs": [
    {
     "data": {
      "text/plain": [
       "name\n",
       "Afghan_hound          287\n",
       "Maltese_dog           264\n",
       "Irish_wolfhound       263\n",
       "Leonberg              256\n",
       "Scottish_deerhound    246\n",
       "                     ... \n",
       "affenpinscher         153\n",
       "malinois              153\n",
       "Pekinese              152\n",
       "groenendael           152\n",
       "redbone               151\n",
       "Name: count, Length: 120, dtype: int64"
      ]
     },
     "execution_count": 335,
     "metadata": {},
     "output_type": "execute_result"
    }
   ],
   "source": [
    "df['name'].value_counts()"
   ]
  },
  {
   "cell_type": "code",
   "execution_count": 336,
   "id": "b2fe450507e72a1a",
   "metadata": {
    "ExecuteTime": {
     "end_time": "2023-12-03T00:42:27.761467Z",
     "start_time": "2023-12-03T00:42:27.732655Z"
    }
   },
   "outputs": [
    {
     "name": "stdout",
     "output_type": "stream",
     "text": [
      "<class 'pandas.core.frame.DataFrame'>\n",
      "RangeIndex: 22126 entries, 0 to 22125\n",
      "Data columns (total 8 columns):\n",
      " #   Column    Non-Null Count  Dtype \n",
      "---  ------    --------------  ----- \n",
      " 0   filename  22126 non-null  object\n",
      " 1   width     22126 non-null  object\n",
      " 2   height    22126 non-null  object\n",
      " 3   name      22126 non-null  object\n",
      " 4   xmin      22126 non-null  object\n",
      " 5   xmax      22126 non-null  object\n",
      " 6   ymin      22126 non-null  object\n",
      " 7   ymax      22126 non-null  object\n",
      "dtypes: object(8)\n",
      "memory usage: 1.4+ MB\n"
     ]
    }
   ],
   "source": [
    "df.info()"
   ]
  },
  {
   "cell_type": "markdown",
   "id": "97dd6fae80d61232",
   "metadata": {},
   "source": [
    "---\n",
    "## Conversion"
   ]
  },
  {
   "cell_type": "code",
   "execution_count": 337,
   "id": "34fdded8f6e4bb98",
   "metadata": {
    "ExecuteTime": {
     "end_time": "2023-12-03T00:42:29.919803Z",
     "start_time": "2023-12-03T00:42:29.880516Z"
    }
   },
   "outputs": [
    {
     "name": "stdout",
     "output_type": "stream",
     "text": [
      "<class 'pandas.core.frame.DataFrame'>\n",
      "RangeIndex: 22126 entries, 0 to 22125\n",
      "Data columns (total 8 columns):\n",
      " #   Column    Non-Null Count  Dtype \n",
      "---  ------    --------------  ----- \n",
      " 0   filename  22126 non-null  object\n",
      " 1   width     22126 non-null  int64 \n",
      " 2   height    22126 non-null  int64 \n",
      " 3   name      22126 non-null  object\n",
      " 4   xmin      22126 non-null  int64 \n",
      " 5   xmax      22126 non-null  int64 \n",
      " 6   ymin      22126 non-null  int64 \n",
      " 7   ymax      22126 non-null  int64 \n",
      "dtypes: int64(6), object(2)\n",
      "memory usage: 1.4+ MB\n"
     ]
    }
   ],
   "source": [
    "# type conversion\n",
    "cols = ['width', 'height', 'xmin', 'xmax', 'ymin', 'ymax']\n",
    "df[cols] = df[cols].astype(int)\n",
    "df.info()"
   ]
  },
  {
   "cell_type": "code",
   "execution_count": 338,
   "id": "554a86156372dea7",
   "metadata": {
    "ExecuteTime": {
     "end_time": "2023-12-03T00:42:31.607126Z",
     "start_time": "2023-12-03T00:42:31.180618Z"
    }
   },
   "outputs": [],
   "source": [
    "# center x, center y\n",
    "df['center_x'] = ((df['xmax']+df['xmin'])/2)/df['width']\n",
    "df['center_y'] = ((df['ymax']+df['ymin'])/2)/df['height']\n",
    "# w & h\n",
    "df['w'] = (df['xmax']-df['xmin'])/df['width']\n",
    "df['h'] = (df['ymax']-df['ymin'])/df['height']"
   ]
  },
  {
   "cell_type": "code",
   "execution_count": 339,
   "id": "727555ac7e35b13",
   "metadata": {
    "ExecuteTime": {
     "end_time": "2023-12-03T00:42:32.604496Z",
     "start_time": "2023-12-03T00:42:32.572363Z"
    }
   },
   "outputs": [
    {
     "data": {
      "text/html": [
       "<div>\n",
       "<style scoped>\n",
       "    .dataframe tbody tr th:only-of-type {\n",
       "        vertical-align: middle;\n",
       "    }\n",
       "\n",
       "    .dataframe tbody tr th {\n",
       "        vertical-align: top;\n",
       "    }\n",
       "\n",
       "    .dataframe thead th {\n",
       "        text-align: right;\n",
       "    }\n",
       "</style>\n",
       "<table border=\"1\" class=\"dataframe\">\n",
       "  <thead>\n",
       "    <tr style=\"text-align: right;\">\n",
       "      <th></th>\n",
       "      <th>filename</th>\n",
       "      <th>width</th>\n",
       "      <th>height</th>\n",
       "      <th>name</th>\n",
       "      <th>xmin</th>\n",
       "      <th>xmax</th>\n",
       "      <th>ymin</th>\n",
       "      <th>ymax</th>\n",
       "      <th>center_x</th>\n",
       "      <th>center_y</th>\n",
       "      <th>w</th>\n",
       "      <th>h</th>\n",
       "    </tr>\n",
       "  </thead>\n",
       "  <tbody>\n",
       "    <tr>\n",
       "      <th>0</th>\n",
       "      <td>n02094433_5155.jpg</td>\n",
       "      <td>500</td>\n",
       "      <td>333</td>\n",
       "      <td>Yorkshire_terrier</td>\n",
       "      <td>123</td>\n",
       "      <td>237</td>\n",
       "      <td>80</td>\n",
       "      <td>280</td>\n",
       "      <td>0.360000</td>\n",
       "      <td>0.540541</td>\n",
       "      <td>0.228000</td>\n",
       "      <td>0.600601</td>\n",
       "    </tr>\n",
       "    <tr>\n",
       "      <th>1</th>\n",
       "      <td>n02109047_5588.jpg</td>\n",
       "      <td>333</td>\n",
       "      <td>500</td>\n",
       "      <td>Great_Dane</td>\n",
       "      <td>75</td>\n",
       "      <td>244</td>\n",
       "      <td>141</td>\n",
       "      <td>405</td>\n",
       "      <td>0.478979</td>\n",
       "      <td>0.546000</td>\n",
       "      <td>0.507508</td>\n",
       "      <td>0.528000</td>\n",
       "    </tr>\n",
       "    <tr>\n",
       "      <th>2</th>\n",
       "      <td>n02104365_6395.jpg</td>\n",
       "      <td>500</td>\n",
       "      <td>376</td>\n",
       "      <td>schipperke</td>\n",
       "      <td>27</td>\n",
       "      <td>448</td>\n",
       "      <td>42</td>\n",
       "      <td>365</td>\n",
       "      <td>0.475000</td>\n",
       "      <td>0.541223</td>\n",
       "      <td>0.842000</td>\n",
       "      <td>0.859043</td>\n",
       "    </tr>\n",
       "    <tr>\n",
       "      <th>3</th>\n",
       "      <td>n02108000_2653.jpg</td>\n",
       "      <td>450</td>\n",
       "      <td>450</td>\n",
       "      <td>EntleBucher</td>\n",
       "      <td>90</td>\n",
       "      <td>372</td>\n",
       "      <td>56</td>\n",
       "      <td>429</td>\n",
       "      <td>0.513333</td>\n",
       "      <td>0.538889</td>\n",
       "      <td>0.626667</td>\n",
       "      <td>0.828889</td>\n",
       "    </tr>\n",
       "    <tr>\n",
       "      <th>4</th>\n",
       "      <td>n02088466_6712.jpg</td>\n",
       "      <td>375</td>\n",
       "      <td>500</td>\n",
       "      <td>bloodhound</td>\n",
       "      <td>56</td>\n",
       "      <td>350</td>\n",
       "      <td>88</td>\n",
       "      <td>412</td>\n",
       "      <td>0.541333</td>\n",
       "      <td>0.500000</td>\n",
       "      <td>0.784000</td>\n",
       "      <td>0.648000</td>\n",
       "    </tr>\n",
       "  </tbody>\n",
       "</table>\n",
       "</div>"
      ],
      "text/plain": [
       "             filename  width  height               name  xmin  xmax  ymin  \\\n",
       "0  n02094433_5155.jpg    500     333  Yorkshire_terrier   123   237    80   \n",
       "1  n02109047_5588.jpg    333     500         Great_Dane    75   244   141   \n",
       "2  n02104365_6395.jpg    500     376         schipperke    27   448    42   \n",
       "3  n02108000_2653.jpg    450     450        EntleBucher    90   372    56   \n",
       "4  n02088466_6712.jpg    375     500         bloodhound    56   350    88   \n",
       "\n",
       "   ymax  center_x  center_y         w         h  \n",
       "0   280  0.360000  0.540541  0.228000  0.600601  \n",
       "1   405  0.478979  0.546000  0.507508  0.528000  \n",
       "2   365  0.475000  0.541223  0.842000  0.859043  \n",
       "3   429  0.513333  0.538889  0.626667  0.828889  \n",
       "4   412  0.541333  0.500000  0.784000  0.648000  "
      ]
     },
     "execution_count": 339,
     "metadata": {},
     "output_type": "execute_result"
    }
   ],
   "source": [
    "df.head()"
   ]
  },
  {
   "cell_type": "markdown",
   "id": "27ec790cf93afe04",
   "metadata": {},
   "source": [
    "---\n",
    "## Split data into train and test"
   ]
  },
  {
   "cell_type": "code",
   "execution_count": 340,
   "id": "69259fa31da588",
   "metadata": {
    "ExecuteTime": {
     "end_time": "2023-12-03T00:42:34.855637Z",
     "start_time": "2023-12-03T00:42:34.851523Z"
    }
   },
   "outputs": [],
   "source": [
    "images = df['filename'].unique()"
   ]
  },
  {
   "cell_type": "code",
   "execution_count": 341,
   "id": "22b9f620eac9092f",
   "metadata": {
    "ExecuteTime": {
     "end_time": "2023-12-03T00:42:35.621137Z",
     "start_time": "2023-12-03T00:42:35.616463Z"
    }
   },
   "outputs": [
    {
     "data": {
      "text/plain": [
       "20580"
      ]
     },
     "execution_count": 341,
     "metadata": {},
     "output_type": "execute_result"
    }
   ],
   "source": [
    "len(images)"
   ]
  },
  {
   "cell_type": "code",
   "execution_count": 342,
   "id": "2d5d713ece81839",
   "metadata": {
    "ExecuteTime": {
     "end_time": "2023-12-03T00:42:36.621820Z",
     "start_time": "2023-12-03T00:42:36.612438Z"
    }
   },
   "outputs": [],
   "source": [
    "# 80% train and 20% test\n",
    "img_df = pd.DataFrame(images, columns=['filename'])\n",
    "img_train = tuple(img_df.sample(frac=0.8)['filename'])"
   ]
  },
  {
   "cell_type": "code",
   "execution_count": 343,
   "id": "3df43a34e5f2f9a6",
   "metadata": {
    "ExecuteTime": {
     "end_time": "2023-12-03T00:42:37.372145Z",
     "start_time": "2023-12-03T00:42:37.220466Z"
    }
   },
   "outputs": [],
   "source": [
    "img_test = tuple(img_df.query(f'filename not in {img_train}')['filename'])"
   ]
  },
  {
   "cell_type": "code",
   "execution_count": 344,
   "id": "b4b1077c28c1b1eb",
   "metadata": {
    "ExecuteTime": {
     "end_time": "2023-12-03T00:42:38.079632Z",
     "start_time": "2023-12-03T00:42:38.074119Z"
    }
   },
   "outputs": [
    {
     "data": {
      "text/plain": [
       "(16464, 4116)"
      ]
     },
     "execution_count": 344,
     "metadata": {},
     "output_type": "execute_result"
    }
   ],
   "source": [
    "len(img_train), len(img_test)"
   ]
  },
  {
   "cell_type": "code",
   "execution_count": 345,
   "id": "8eb8063ca1e84d67",
   "metadata": {
    "ExecuteTime": {
     "end_time": "2023-12-03T00:42:38.981252Z",
     "start_time": "2023-12-03T00:42:38.905008Z"
    }
   },
   "outputs": [],
   "source": [
    "train_df = df.query(f'filename in {img_train}')\n",
    "test_df = df.query(f'filename in {img_test}')"
   ]
  },
  {
   "cell_type": "code",
   "execution_count": 346,
   "id": "21f47a7d26b72e45",
   "metadata": {
    "ExecuteTime": {
     "end_time": "2023-12-03T00:42:39.491839Z",
     "start_time": "2023-12-03T00:42:39.481191Z"
    }
   },
   "outputs": [
    {
     "data": {
      "text/html": [
       "<div>\n",
       "<style scoped>\n",
       "    .dataframe tbody tr th:only-of-type {\n",
       "        vertical-align: middle;\n",
       "    }\n",
       "\n",
       "    .dataframe tbody tr th {\n",
       "        vertical-align: top;\n",
       "    }\n",
       "\n",
       "    .dataframe thead th {\n",
       "        text-align: right;\n",
       "    }\n",
       "</style>\n",
       "<table border=\"1\" class=\"dataframe\">\n",
       "  <thead>\n",
       "    <tr style=\"text-align: right;\">\n",
       "      <th></th>\n",
       "      <th>filename</th>\n",
       "      <th>width</th>\n",
       "      <th>height</th>\n",
       "      <th>name</th>\n",
       "      <th>xmin</th>\n",
       "      <th>xmax</th>\n",
       "      <th>ymin</th>\n",
       "      <th>ymax</th>\n",
       "      <th>center_x</th>\n",
       "      <th>center_y</th>\n",
       "      <th>w</th>\n",
       "      <th>h</th>\n",
       "    </tr>\n",
       "  </thead>\n",
       "  <tbody>\n",
       "    <tr>\n",
       "      <th>0</th>\n",
       "      <td>n02094433_5155.jpg</td>\n",
       "      <td>500</td>\n",
       "      <td>333</td>\n",
       "      <td>Yorkshire_terrier</td>\n",
       "      <td>123</td>\n",
       "      <td>237</td>\n",
       "      <td>80</td>\n",
       "      <td>280</td>\n",
       "      <td>0.360000</td>\n",
       "      <td>0.540541</td>\n",
       "      <td>0.228000</td>\n",
       "      <td>0.600601</td>\n",
       "    </tr>\n",
       "    <tr>\n",
       "      <th>1</th>\n",
       "      <td>n02109047_5588.jpg</td>\n",
       "      <td>333</td>\n",
       "      <td>500</td>\n",
       "      <td>Great_Dane</td>\n",
       "      <td>75</td>\n",
       "      <td>244</td>\n",
       "      <td>141</td>\n",
       "      <td>405</td>\n",
       "      <td>0.478979</td>\n",
       "      <td>0.546000</td>\n",
       "      <td>0.507508</td>\n",
       "      <td>0.528000</td>\n",
       "    </tr>\n",
       "    <tr>\n",
       "      <th>2</th>\n",
       "      <td>n02104365_6395.jpg</td>\n",
       "      <td>500</td>\n",
       "      <td>376</td>\n",
       "      <td>schipperke</td>\n",
       "      <td>27</td>\n",
       "      <td>448</td>\n",
       "      <td>42</td>\n",
       "      <td>365</td>\n",
       "      <td>0.475000</td>\n",
       "      <td>0.541223</td>\n",
       "      <td>0.842000</td>\n",
       "      <td>0.859043</td>\n",
       "    </tr>\n",
       "    <tr>\n",
       "      <th>3</th>\n",
       "      <td>n02108000_2653.jpg</td>\n",
       "      <td>450</td>\n",
       "      <td>450</td>\n",
       "      <td>EntleBucher</td>\n",
       "      <td>90</td>\n",
       "      <td>372</td>\n",
       "      <td>56</td>\n",
       "      <td>429</td>\n",
       "      <td>0.513333</td>\n",
       "      <td>0.538889</td>\n",
       "      <td>0.626667</td>\n",
       "      <td>0.828889</td>\n",
       "    </tr>\n",
       "    <tr>\n",
       "      <th>4</th>\n",
       "      <td>n02088466_6712.jpg</td>\n",
       "      <td>375</td>\n",
       "      <td>500</td>\n",
       "      <td>bloodhound</td>\n",
       "      <td>56</td>\n",
       "      <td>350</td>\n",
       "      <td>88</td>\n",
       "      <td>412</td>\n",
       "      <td>0.541333</td>\n",
       "      <td>0.500000</td>\n",
       "      <td>0.784000</td>\n",
       "      <td>0.648000</td>\n",
       "    </tr>\n",
       "  </tbody>\n",
       "</table>\n",
       "</div>"
      ],
      "text/plain": [
       "             filename  width  height               name  xmin  xmax  ymin  \\\n",
       "0  n02094433_5155.jpg    500     333  Yorkshire_terrier   123   237    80   \n",
       "1  n02109047_5588.jpg    333     500         Great_Dane    75   244   141   \n",
       "2  n02104365_6395.jpg    500     376         schipperke    27   448    42   \n",
       "3  n02108000_2653.jpg    450     450        EntleBucher    90   372    56   \n",
       "4  n02088466_6712.jpg    375     500         bloodhound    56   350    88   \n",
       "\n",
       "   ymax  center_x  center_y         w         h  \n",
       "0   280  0.360000  0.540541  0.228000  0.600601  \n",
       "1   405  0.478979  0.546000  0.507508  0.528000  \n",
       "2   365  0.475000  0.541223  0.842000  0.859043  \n",
       "3   429  0.513333  0.538889  0.626667  0.828889  \n",
       "4   412  0.541333  0.500000  0.784000  0.648000  "
      ]
     },
     "execution_count": 346,
     "metadata": {},
     "output_type": "execute_result"
    }
   ],
   "source": [
    "train_df.head()"
   ]
  },
  {
   "cell_type": "code",
   "execution_count": 347,
   "id": "51dfbcd2fe65497e",
   "metadata": {
    "ExecuteTime": {
     "end_time": "2023-12-03T00:42:40.307845Z",
     "start_time": "2023-12-03T00:42:40.303018Z"
    }
   },
   "outputs": [
    {
     "data": {
      "text/html": [
       "<div>\n",
       "<style scoped>\n",
       "    .dataframe tbody tr th:only-of-type {\n",
       "        vertical-align: middle;\n",
       "    }\n",
       "\n",
       "    .dataframe tbody tr th {\n",
       "        vertical-align: top;\n",
       "    }\n",
       "\n",
       "    .dataframe thead th {\n",
       "        text-align: right;\n",
       "    }\n",
       "</style>\n",
       "<table border=\"1\" class=\"dataframe\">\n",
       "  <thead>\n",
       "    <tr style=\"text-align: right;\">\n",
       "      <th></th>\n",
       "      <th>filename</th>\n",
       "      <th>width</th>\n",
       "      <th>height</th>\n",
       "      <th>name</th>\n",
       "      <th>xmin</th>\n",
       "      <th>xmax</th>\n",
       "      <th>ymin</th>\n",
       "      <th>ymax</th>\n",
       "      <th>center_x</th>\n",
       "      <th>center_y</th>\n",
       "      <th>w</th>\n",
       "      <th>h</th>\n",
       "    </tr>\n",
       "  </thead>\n",
       "  <tbody>\n",
       "    <tr>\n",
       "      <th>5</th>\n",
       "      <td>n02085620_4700.jpg</td>\n",
       "      <td>375</td>\n",
       "      <td>500</td>\n",
       "      <td>Chihuahua</td>\n",
       "      <td>30</td>\n",
       "      <td>372</td>\n",
       "      <td>32</td>\n",
       "      <td>498</td>\n",
       "      <td>0.5360</td>\n",
       "      <td>0.530000</td>\n",
       "      <td>0.912</td>\n",
       "      <td>0.932000</td>\n",
       "    </tr>\n",
       "    <tr>\n",
       "      <th>7</th>\n",
       "      <td>n02109961_4369.jpg</td>\n",
       "      <td>500</td>\n",
       "      <td>375</td>\n",
       "      <td>Eskimo_dog</td>\n",
       "      <td>249</td>\n",
       "      <td>499</td>\n",
       "      <td>34</td>\n",
       "      <td>333</td>\n",
       "      <td>0.7480</td>\n",
       "      <td>0.489333</td>\n",
       "      <td>0.500</td>\n",
       "      <td>0.797333</td>\n",
       "    </tr>\n",
       "    <tr>\n",
       "      <th>8</th>\n",
       "      <td>n02109961_4369.jpg</td>\n",
       "      <td>500</td>\n",
       "      <td>375</td>\n",
       "      <td>Eskimo_dog</td>\n",
       "      <td>37</td>\n",
       "      <td>291</td>\n",
       "      <td>41</td>\n",
       "      <td>334</td>\n",
       "      <td>0.3280</td>\n",
       "      <td>0.500000</td>\n",
       "      <td>0.508</td>\n",
       "      <td>0.781333</td>\n",
       "    </tr>\n",
       "    <tr>\n",
       "      <th>26</th>\n",
       "      <td>n02102040_6603.jpg</td>\n",
       "      <td>500</td>\n",
       "      <td>375</td>\n",
       "      <td>English_springer</td>\n",
       "      <td>78</td>\n",
       "      <td>364</td>\n",
       "      <td>42</td>\n",
       "      <td>374</td>\n",
       "      <td>0.4420</td>\n",
       "      <td>0.554667</td>\n",
       "      <td>0.572</td>\n",
       "      <td>0.885333</td>\n",
       "    </tr>\n",
       "    <tr>\n",
       "      <th>27</th>\n",
       "      <td>n02093991_4462.jpg</td>\n",
       "      <td>400</td>\n",
       "      <td>500</td>\n",
       "      <td>Irish_terrier</td>\n",
       "      <td>6</td>\n",
       "      <td>392</td>\n",
       "      <td>147</td>\n",
       "      <td>465</td>\n",
       "      <td>0.4975</td>\n",
       "      <td>0.612000</td>\n",
       "      <td>0.965</td>\n",
       "      <td>0.636000</td>\n",
       "    </tr>\n",
       "  </tbody>\n",
       "</table>\n",
       "</div>"
      ],
      "text/plain": [
       "              filename  width  height              name  xmin  xmax  ymin  \\\n",
       "5   n02085620_4700.jpg    375     500         Chihuahua    30   372    32   \n",
       "7   n02109961_4369.jpg    500     375        Eskimo_dog   249   499    34   \n",
       "8   n02109961_4369.jpg    500     375        Eskimo_dog    37   291    41   \n",
       "26  n02102040_6603.jpg    500     375  English_springer    78   364    42   \n",
       "27  n02093991_4462.jpg    400     500     Irish_terrier     6   392   147   \n",
       "\n",
       "    ymax  center_x  center_y      w         h  \n",
       "5    498    0.5360  0.530000  0.912  0.932000  \n",
       "7    333    0.7480  0.489333  0.500  0.797333  \n",
       "8    334    0.3280  0.500000  0.508  0.781333  \n",
       "26   374    0.4420  0.554667  0.572  0.885333  \n",
       "27   465    0.4975  0.612000  0.965  0.636000  "
      ]
     },
     "execution_count": 347,
     "metadata": {},
     "output_type": "execute_result"
    }
   ],
   "source": [
    "test_df.head()"
   ]
  },
  {
   "cell_type": "markdown",
   "id": "c0e609da4c36ff5d",
   "metadata": {},
   "source": [
    "## Assign Id number to object names"
   ]
  },
  {
   "cell_type": "code",
   "execution_count": 348,
   "id": "32e1cee4a80a37a1",
   "metadata": {
    "ExecuteTime": {
     "end_time": "2023-12-03T00:42:42.327279Z",
     "start_time": "2023-12-03T00:42:42.293605Z"
    }
   },
   "outputs": [],
   "source": [
    "def label_encoding(x):\n",
    "    labels = {'silky_terrier':0, 'Scottish_deerhound':1, 'Chesapeake_Bay_retriever':2, 'Ibizan_hound':3,'wire-haired_fox_terrier':4, 'Saluki':5, 'cocker_spaniel':6, 'schipperke':7, 'borzoi':8, 'Pembroke':9, 'komondor':10, 'Staffordshire_bullterrier':11, 'standard_poodle':12, 'Eskimo_dog':13, 'English_foxhound':14, 'golden_retriever':15, 'Sealyham_terrier':16, 'Japanese_spaniel':17, 'miniature_schnauzer':18, 'malamute':19, 'malinois':20, 'Pekinese':21, 'giant_schnauzer':22, 'Mexican_hairless':23, 'Doberman':24, 'standard_schnauzer':25, 'dhole':26, 'German_shepherd':27, 'Bouvier_des_Flandres':28, 'Siberian_husky':29, 'Norwich_terrier':30, 'Irish_terrier':31, 'Norfolk_terrier':32, 'Saint_Bernard':33, 'Border_terrier':34, 'briard':35, 'Tibetan_mastiff':36, 'bull_mastiff':37, 'Maltese_dog':38, 'Kerry_blue_terrier':39, 'kuvasz':40, 'Greater_Swiss_Mountain_dog':41, 'Lakeland_terrier':42, 'Blenheim_spaniel':43, 'basset':44, 'West_Highland_white_terrier':45, 'Chihuahua':46, 'Border_collie':47, 'redbone':48, 'Irish_wolfhound':49, 'bluetick':50, 'miniature_poodle':51, 'Cardigan':52, 'EntleBucher':53, 'Norwegian_elkhound':54, 'German_short-haired_pointer':55, 'Bernese_mountain_dog':56, 'papillon':57, 'Tibetan_terrier':58, 'Gordon_setter':59, 'American_Staffordshire_terrier':60, 'vizsla':61, 'kelpie':62, 'Weimaraner':63, 'miniature_pinscher':64, 'boxer':65, 'chow':66, 'Old_English_sheepdog':67, 'pug':68, 'Rhodesian_ridgeback':69, 'Scotch_terrier':70, 'Shih-Tzu':71, 'affenpinscher':72, 'whippet':73, 'Sussex_spaniel':74, 'otterhound':75, 'flat-coated_retriever':76, 'English_setter':77, 'Italian_greyhound':78, 'Labrador_retriever':79, 'collie':80, 'cairn':81, 'Rottweiler':82, 'Australian_terrier':83, 'toy_terrier':84, 'Shetland_sheepdog':85, 'African_hunting_dog':86, 'Newfoundland':87, 'Walker_hound':88, 'Lhasa':89, 'beagle':90, 'Samoyed':91, 'Great_Dane':92, 'Airedale':93, 'bloodhound':94, 'Irish_setter':95, 'keeshond':96, 'Dandie_Dinmont':97, 'basenji':98, 'Bedlington_terrier':99, 'Appenzeller':100, 'clumber':101, 'toy_poodle':102, 'Great_Pyrenees':103, 'English_springer':104, 'Afghan_hound':105, 'Brittany_spaniel':106, 'Welsh_springer_spaniel':107, 'Boston_bull':108, 'dingo':109, 'soft-coated_wheaten_terrier':110, 'curly-coated_retriever':111, 'French_bulldog':112, 'Irish_water_spaniel':113, 'Pomeranian':114, 'Brabancon_griffon':115, 'Yorkshire_terrier':116, 'groenendael':117, 'Leonberg':118, 'black-and-tan_coonhound':119}\n",
    "    \n",
    "    return labels[x]"
   ]
  },
  {
   "cell_type": "code",
   "execution_count": 349,
   "id": "a9d4746de9563cbf",
   "metadata": {
    "ExecuteTime": {
     "end_time": "2023-12-03T00:42:43.609166Z",
     "start_time": "2023-12-03T00:42:43.441001Z"
    }
   },
   "outputs": [
    {
     "name": "stderr",
     "output_type": "stream",
     "text": [
      "/var/folders/lm/5zf8krhx40z3vhmxjw1dnbcw0000gn/T/ipykernel_14710/1789319663.py:1: SettingWithCopyWarning: \n",
      "A value is trying to be set on a copy of a slice from a DataFrame.\n",
      "Try using .loc[row_indexer,col_indexer] = value instead\n",
      "\n",
      "See the caveats in the documentation: https://pandas.pydata.org/pandas-docs/stable/user_guide/indexing.html#returning-a-view-versus-a-copy\n",
      "  train_df['id'] = train_df['name'].apply(label_encoding)\n",
      "/var/folders/lm/5zf8krhx40z3vhmxjw1dnbcw0000gn/T/ipykernel_14710/1789319663.py:2: SettingWithCopyWarning: \n",
      "A value is trying to be set on a copy of a slice from a DataFrame.\n",
      "Try using .loc[row_indexer,col_indexer] = value instead\n",
      "\n",
      "See the caveats in the documentation: https://pandas.pydata.org/pandas-docs/stable/user_guide/indexing.html#returning-a-view-versus-a-copy\n",
      "  test_df['id'] = test_df['name'].apply(label_encoding)\n"
     ]
    }
   ],
   "source": [
    "train_df['id'] = train_df['name'].apply(label_encoding)\n",
    "test_df['id'] = test_df['name'].apply(label_encoding)"
   ]
  },
  {
   "cell_type": "markdown",
   "id": "504094e5b802a534",
   "metadata": {},
   "source": [
    "## Save images and labels in text"
   ]
  },
  {
   "cell_type": "code",
   "execution_count": 350,
   "id": "cf4a15abe8c0c431",
   "metadata": {
    "ExecuteTime": {
     "end_time": "2023-12-03T00:42:45.304503Z",
     "start_time": "2023-12-03T00:42:45.299289Z"
    }
   },
   "outputs": [],
   "source": [
    "from shutil import move"
   ]
  },
  {
   "cell_type": "code",
   "execution_count": 351,
   "id": "72c706b7cfd55268",
   "metadata": {
    "ExecuteTime": {
     "end_time": "2023-12-03T00:42:46.047378Z",
     "start_time": "2023-12-03T00:42:46.003442Z"
    }
   },
   "outputs": [
    {
     "data": {
      "text/html": [
       "<div>\n",
       "<style scoped>\n",
       "    .dataframe tbody tr th:only-of-type {\n",
       "        vertical-align: middle;\n",
       "    }\n",
       "\n",
       "    .dataframe tbody tr th {\n",
       "        vertical-align: top;\n",
       "    }\n",
       "\n",
       "    .dataframe thead th {\n",
       "        text-align: right;\n",
       "    }\n",
       "</style>\n",
       "<table border=\"1\" class=\"dataframe\">\n",
       "  <thead>\n",
       "    <tr style=\"text-align: right;\">\n",
       "      <th></th>\n",
       "      <th>filename</th>\n",
       "      <th>width</th>\n",
       "      <th>height</th>\n",
       "      <th>name</th>\n",
       "      <th>xmin</th>\n",
       "      <th>xmax</th>\n",
       "      <th>ymin</th>\n",
       "      <th>ymax</th>\n",
       "      <th>center_x</th>\n",
       "      <th>center_y</th>\n",
       "      <th>w</th>\n",
       "      <th>h</th>\n",
       "      <th>id</th>\n",
       "    </tr>\n",
       "  </thead>\n",
       "  <tbody>\n",
       "  </tbody>\n",
       "</table>\n",
       "</div>"
      ],
      "text/plain": [
       "Empty DataFrame\n",
       "Columns: [filename, width, height, name, xmin, xmax, ymin, ymax, center_x, center_y, w, h, id]\n",
       "Index: []"
      ]
     },
     "execution_count": 351,
     "metadata": {},
     "output_type": "execute_result"
    }
   ],
   "source": [
    "train_df[train_df['filename'] == '%s.jpg']"
   ]
  },
  {
   "cell_type": "code",
   "execution_count": 352,
   "id": "4e787b30cf42f277",
   "metadata": {
    "ExecuteTime": {
     "end_time": "2023-12-03T00:42:47.875958Z",
     "start_time": "2023-12-03T00:42:47.396501Z"
    }
   },
   "outputs": [],
   "source": [
    "train_df = train_df[train_df['filename'] != '%s.jpg']\n",
    "test_df = test_df[test_df['filename'] != '%s.jpg']"
   ]
  },
  {
   "cell_type": "code",
   "execution_count": 353,
   "id": "ab31eb04ef1aa047",
   "metadata": {
    "ExecuteTime": {
     "end_time": "2023-12-03T00:42:54.663418Z",
     "start_time": "2023-12-03T00:42:54.647934Z"
    }
   },
   "outputs": [],
   "source": [
    "train_folder = 'datasets/train'\n",
    "test_folder = 'datasets/test'\n",
    "\n",
    "os.mkdir(train_folder)\n",
    "os.mkdir(test_folder)"
   ]
  },
  {
   "cell_type": "code",
   "execution_count": 354,
   "id": "5e77b95a1f298645",
   "metadata": {
    "ExecuteTime": {
     "end_time": "2023-12-03T00:43:06.969103Z",
     "start_time": "2023-12-03T00:43:06.935938Z"
    }
   },
   "outputs": [],
   "source": [
    "cols = ['filename', 'id', 'center_x', 'center_y', 'w', 'h']\n",
    "groupby_obj_train = train_df[cols].groupby('filename')\n",
    "groupby_obj_test = test_df[cols].groupby('filename')"
   ]
  },
  {
   "cell_type": "code",
   "execution_count": 355,
   "id": "b459ec6f6aee1210",
   "metadata": {
    "ExecuteTime": {
     "end_time": "2023-12-03T00:43:08.064315Z",
     "start_time": "2023-12-03T00:43:08.056120Z"
    }
   },
   "outputs": [],
   "source": [
    "# save each image in train/test folder and respective labels in .txt\n",
    "def save_data(filename, folder_path, group_obj):\n",
    "    # move image\n",
    "    src = os.path.join('datasets', filename)\n",
    "    dst = os.path.join(folder_path, filename)\n",
    "    move(src, dst)\n",
    "    \n",
    "    # save the labels\n",
    "    text_filename = os.path.join(folder_path, \n",
    "                                 os.path.splitext(filename)[0]+'.txt')\n",
    "    group_obj.get_group(filename).set_index('filename').to_csv(text_filename, sep=' ', index=False, header=False)"
   ]
  },
  {
   "cell_type": "code",
   "execution_count": 356,
   "id": "c1f30997228fb4ee",
   "metadata": {
    "ExecuteTime": {
     "end_time": "2023-12-03T00:43:10.617248Z",
     "start_time": "2023-12-03T00:43:10.598394Z"
    }
   },
   "outputs": [],
   "source": [
    "filename_series = pd.Series(groupby_obj_train.groups.keys())"
   ]
  },
  {
   "cell_type": "code",
   "execution_count": 358,
   "id": "3acdf544e2752076",
   "metadata": {
    "ExecuteTime": {
     "end_time": "2023-12-03T00:43:23.645060Z",
     "start_time": "2023-12-03T00:43:12.967246Z"
    }
   },
   "outputs": [
    {
     "data": {
      "text/plain": [
       "0        None\n",
       "1        None\n",
       "2        None\n",
       "3        None\n",
       "4        None\n",
       "         ... \n",
       "16459    None\n",
       "16460    None\n",
       "16461    None\n",
       "16462    None\n",
       "16463    None\n",
       "Length: 16464, dtype: object"
      ]
     },
     "execution_count": 358,
     "metadata": {},
     "output_type": "execute_result"
    }
   ],
   "source": [
    "# full path filename are in the column 'filename' in train_df\n",
    "filename_series.apply(save_data, args=(train_folder, groupby_obj_train))"
   ]
  },
  {
   "cell_type": "code",
   "execution_count": 359,
   "id": "8bd48353917ca238",
   "metadata": {
    "ExecuteTime": {
     "end_time": "2023-12-03T00:43:43.150861Z",
     "start_time": "2023-12-03T00:43:40.050935Z"
    }
   },
   "outputs": [
    {
     "data": {
      "text/plain": [
       "0       None\n",
       "1       None\n",
       "2       None\n",
       "3       None\n",
       "4       None\n",
       "        ... \n",
       "4111    None\n",
       "4112    None\n",
       "4113    None\n",
       "4114    None\n",
       "4115    None\n",
       "Length: 4116, dtype: object"
      ]
     },
     "execution_count": 359,
     "metadata": {},
     "output_type": "execute_result"
    }
   ],
   "source": [
    "filename_series_test = pd.Series(groupby_obj_test.groups.keys())\n",
    "filename_series_test.apply(save_data, args=(test_folder, groupby_obj_test))"
   ]
  },
  {
   "cell_type": "code",
   "execution_count": 360,
   "id": "b290dbe7d69d0670",
   "metadata": {
    "ExecuteTime": {
     "end_time": "2023-12-03T00:47:29.626682Z",
     "start_time": "2023-12-03T00:47:26.517766Z"
    }
   },
   "outputs": [
    {
     "name": "stdout",
     "output_type": "stream",
     "text": [
      "XML files have been moved successfully.\n"
     ]
    }
   ],
   "source": [
    "# Define the paths for the source and destination directories\n",
    "source_folder = 'datasets'\n",
    "destination_folder = 'datasets/Annotations'\n",
    "\n",
    "# Create the destination folder if it doesn't exist\n",
    "if not os.path.exists(destination_folder):\n",
    "    os.makedirs(destination_folder)\n",
    "\n",
    "# Iterate through all files in the source folder\n",
    "for file in os.listdir(source_folder):\n",
    "    # Check if the file is an .xml file\n",
    "    if file.endswith('.xml'):\n",
    "        # Construct the full path for the source and destination files\n",
    "        source_path = os.path.join(source_folder, file)\n",
    "        destination_path = os.path.join(destination_folder, file)\n",
    "\n",
    "        # Move the file\n",
    "        shutil.move(source_path, destination_path)\n",
    "\n",
    "print(\"XML files have been moved successfully.\")\n"
   ]
  }
 ],
 "metadata": {
  "kernelspec": {
   "display_name": "Python 3 (ipykernel)",
   "language": "python",
   "name": "python3"
  },
  "language_info": {
   "codemirror_mode": {
    "name": "ipython",
    "version": 3
   },
   "file_extension": ".py",
   "mimetype": "text/x-python",
   "name": "python",
   "nbconvert_exporter": "python",
   "pygments_lexer": "ipython3",
   "version": "3.11.5"
  }
 },
 "nbformat": 4,
 "nbformat_minor": 5
}
